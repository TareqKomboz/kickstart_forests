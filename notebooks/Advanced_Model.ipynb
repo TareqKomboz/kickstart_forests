{
 "cells": [
  {
   "cell_type": "code",
   "execution_count": 2,
   "id": "3c23ba6d-2162-4c97-8109-de0f8ad3c318",
   "metadata": {},
   "outputs": [],
   "source": [
    "import pandas as pd\n",
    "import seaborn as sns\n",
    "import matplotlib.pyplot as plt\n",
    "from sklearn.model_selection import train_test_split\n",
    "from sklearn.linear_model import LinearRegression\n",
    "from sklearn.ensemble import RandomForestRegressor"
   ]
  },
  {
   "cell_type": "code",
   "execution_count": 3,
   "id": "30507e0e-2763-4177-bf89-77a46bdac091",
   "metadata": {},
   "outputs": [],
   "source": [
    "df = pd.read_csv('../data/RtmSimulation_kickstart.csv', index_col= 0)"
   ]
  },
  {
   "cell_type": "code",
   "execution_count": 4,
   "id": "26ea02db-c048-4568-ae84-b550b0274314",
   "metadata": {},
   "outputs": [
    {
     "data": {
      "text/plain": [
       "(1000, 2114)"
      ]
     },
     "execution_count": 4,
     "metadata": {},
     "output_type": "execute_result"
    }
   ],
   "source": [
    "df.shape"
   ]
  },
  {
   "cell_type": "code",
   "execution_count": 5,
   "id": "d720388e-b235-4c6d-913b-1f8b70274c3d",
   "metadata": {},
   "outputs": [
    {
     "data": {
      "text/html": [
       "<div>\n",
       "<style scoped>\n",
       "    .dataframe tbody tr th:only-of-type {\n",
       "        vertical-align: middle;\n",
       "    }\n",
       "\n",
       "    .dataframe tbody tr th {\n",
       "        vertical-align: top;\n",
       "    }\n",
       "\n",
       "    .dataframe thead th {\n",
       "        text-align: right;\n",
       "    }\n",
       "</style>\n",
       "<table border=\"1\" class=\"dataframe\">\n",
       "  <thead>\n",
       "    <tr style=\"text-align: right;\">\n",
       "      <th></th>\n",
       "      <th>lai</th>\n",
       "      <th>wetness</th>\n",
       "      <th>treeSpecies</th>\n",
       "      <th>Sentinel_2A_492.4</th>\n",
       "      <th>Sentinel_2A_559.8</th>\n",
       "      <th>Sentinel_2A_664.6</th>\n",
       "      <th>Sentinel_2A_704.1</th>\n",
       "      <th>Sentinel_2A_740.5</th>\n",
       "      <th>Sentinel_2A_782.8</th>\n",
       "      <th>Sentinel_2A_832.8</th>\n",
       "      <th>...</th>\n",
       "      <th>w2491</th>\n",
       "      <th>w2492</th>\n",
       "      <th>w2493</th>\n",
       "      <th>w2494</th>\n",
       "      <th>w2495</th>\n",
       "      <th>w2496</th>\n",
       "      <th>w2497</th>\n",
       "      <th>w2498</th>\n",
       "      <th>w2499</th>\n",
       "      <th>w2500</th>\n",
       "    </tr>\n",
       "    <tr>\n",
       "      <th>id</th>\n",
       "      <th></th>\n",
       "      <th></th>\n",
       "      <th></th>\n",
       "      <th></th>\n",
       "      <th></th>\n",
       "      <th></th>\n",
       "      <th></th>\n",
       "      <th></th>\n",
       "      <th></th>\n",
       "      <th></th>\n",
       "      <th></th>\n",
       "      <th></th>\n",
       "      <th></th>\n",
       "      <th></th>\n",
       "      <th></th>\n",
       "      <th></th>\n",
       "      <th></th>\n",
       "      <th></th>\n",
       "      <th></th>\n",
       "      <th></th>\n",
       "      <th></th>\n",
       "    </tr>\n",
       "  </thead>\n",
       "  <tbody>\n",
       "    <tr>\n",
       "      <th>1</th>\n",
       "      <td>5.10</td>\n",
       "      <td>0.36</td>\n",
       "      <td>predominantly_pine</td>\n",
       "      <td>0.062092</td>\n",
       "      <td>0.131702</td>\n",
       "      <td>0.043197</td>\n",
       "      <td>0.177134</td>\n",
       "      <td>0.401750</td>\n",
       "      <td>0.458003</td>\n",
       "      <td>0.463287</td>\n",
       "      <td>...</td>\n",
       "      <td>0.037392</td>\n",
       "      <td>0.026100</td>\n",
       "      <td>0.033480</td>\n",
       "      <td>0.027219</td>\n",
       "      <td>0.033905</td>\n",
       "      <td>0.017797</td>\n",
       "      <td>0.038259</td>\n",
       "      <td>0.020111</td>\n",
       "      <td>0.027921</td>\n",
       "      <td>0.027520</td>\n",
       "    </tr>\n",
       "    <tr>\n",
       "      <th>2</th>\n",
       "      <td>5.34</td>\n",
       "      <td>0.47</td>\n",
       "      <td>predominantly_beech</td>\n",
       "      <td>0.052807</td>\n",
       "      <td>0.129987</td>\n",
       "      <td>0.043061</td>\n",
       "      <td>0.153641</td>\n",
       "      <td>0.407523</td>\n",
       "      <td>0.466853</td>\n",
       "      <td>0.477236</td>\n",
       "      <td>...</td>\n",
       "      <td>0.028002</td>\n",
       "      <td>0.030901</td>\n",
       "      <td>0.039650</td>\n",
       "      <td>0.029524</td>\n",
       "      <td>0.032461</td>\n",
       "      <td>0.030735</td>\n",
       "      <td>0.023527</td>\n",
       "      <td>0.029523</td>\n",
       "      <td>0.021542</td>\n",
       "      <td>0.026780</td>\n",
       "    </tr>\n",
       "    <tr>\n",
       "      <th>3</th>\n",
       "      <td>4.53</td>\n",
       "      <td>0.68</td>\n",
       "      <td>predominantly_pine</td>\n",
       "      <td>0.047937</td>\n",
       "      <td>0.139421</td>\n",
       "      <td>0.045780</td>\n",
       "      <td>0.157121</td>\n",
       "      <td>0.395428</td>\n",
       "      <td>0.441620</td>\n",
       "      <td>0.448626</td>\n",
       "      <td>...</td>\n",
       "      <td>0.015169</td>\n",
       "      <td>0.020155</td>\n",
       "      <td>0.025696</td>\n",
       "      <td>0.026504</td>\n",
       "      <td>0.028994</td>\n",
       "      <td>0.031195</td>\n",
       "      <td>0.025666</td>\n",
       "      <td>0.032225</td>\n",
       "      <td>0.016128</td>\n",
       "      <td>0.026495</td>\n",
       "    </tr>\n",
       "    <tr>\n",
       "      <th>4</th>\n",
       "      <td>2.10</td>\n",
       "      <td>0.80</td>\n",
       "      <td>predominantly_beech</td>\n",
       "      <td>0.045907</td>\n",
       "      <td>0.107761</td>\n",
       "      <td>0.033984</td>\n",
       "      <td>0.128237</td>\n",
       "      <td>0.341315</td>\n",
       "      <td>0.385277</td>\n",
       "      <td>0.382241</td>\n",
       "      <td>...</td>\n",
       "      <td>0.029487</td>\n",
       "      <td>0.031408</td>\n",
       "      <td>0.032888</td>\n",
       "      <td>0.029878</td>\n",
       "      <td>0.027617</td>\n",
       "      <td>0.034964</td>\n",
       "      <td>0.031996</td>\n",
       "      <td>0.032882</td>\n",
       "      <td>0.019543</td>\n",
       "      <td>0.121085</td>\n",
       "    </tr>\n",
       "    <tr>\n",
       "      <th>5</th>\n",
       "      <td>5.34</td>\n",
       "      <td>0.48</td>\n",
       "      <td>mixed</td>\n",
       "      <td>0.051712</td>\n",
       "      <td>0.136293</td>\n",
       "      <td>0.041502</td>\n",
       "      <td>0.167564</td>\n",
       "      <td>0.407460</td>\n",
       "      <td>0.454137</td>\n",
       "      <td>0.464966</td>\n",
       "      <td>...</td>\n",
       "      <td>0.024510</td>\n",
       "      <td>0.023754</td>\n",
       "      <td>0.026276</td>\n",
       "      <td>0.031367</td>\n",
       "      <td>0.039625</td>\n",
       "      <td>0.036997</td>\n",
       "      <td>0.022577</td>\n",
       "      <td>0.039619</td>\n",
       "      <td>0.031636</td>\n",
       "      <td>0.022230</td>\n",
       "    </tr>\n",
       "  </tbody>\n",
       "</table>\n",
       "<p>5 rows × 2114 columns</p>\n",
       "</div>"
      ],
      "text/plain": [
       "     lai  wetness          treeSpecies  Sentinel_2A_492.4  Sentinel_2A_559.8  \\\n",
       "id                                                                             \n",
       "1   5.10     0.36   predominantly_pine           0.062092           0.131702   \n",
       "2   5.34     0.47  predominantly_beech           0.052807           0.129987   \n",
       "3   4.53     0.68   predominantly_pine           0.047937           0.139421   \n",
       "4   2.10     0.80  predominantly_beech           0.045907           0.107761   \n",
       "5   5.34     0.48                mixed           0.051712           0.136293   \n",
       "\n",
       "    Sentinel_2A_664.6  Sentinel_2A_704.1  Sentinel_2A_740.5  \\\n",
       "id                                                            \n",
       "1            0.043197           0.177134           0.401750   \n",
       "2            0.043061           0.153641           0.407523   \n",
       "3            0.045780           0.157121           0.395428   \n",
       "4            0.033984           0.128237           0.341315   \n",
       "5            0.041502           0.167564           0.407460   \n",
       "\n",
       "    Sentinel_2A_782.8  Sentinel_2A_832.8  ...     w2491     w2492     w2493  \\\n",
       "id                                        ...                                 \n",
       "1            0.458003           0.463287  ...  0.037392  0.026100  0.033480   \n",
       "2            0.466853           0.477236  ...  0.028002  0.030901  0.039650   \n",
       "3            0.441620           0.448626  ...  0.015169  0.020155  0.025696   \n",
       "4            0.385277           0.382241  ...  0.029487  0.031408  0.032888   \n",
       "5            0.454137           0.464966  ...  0.024510  0.023754  0.026276   \n",
       "\n",
       "       w2494     w2495     w2496     w2497     w2498     w2499     w2500  \n",
       "id                                                                        \n",
       "1   0.027219  0.033905  0.017797  0.038259  0.020111  0.027921  0.027520  \n",
       "2   0.029524  0.032461  0.030735  0.023527  0.029523  0.021542  0.026780  \n",
       "3   0.026504  0.028994  0.031195  0.025666  0.032225  0.016128  0.026495  \n",
       "4   0.029878  0.027617  0.034964  0.031996  0.032882  0.019543  0.121085  \n",
       "5   0.031367  0.039625  0.036997  0.022577  0.039619  0.031636  0.022230  \n",
       "\n",
       "[5 rows x 2114 columns]"
      ]
     },
     "execution_count": 5,
     "metadata": {},
     "output_type": "execute_result"
    }
   ],
   "source": [
    "df.head()"
   ]
  },
  {
   "cell_type": "markdown",
   "id": "2adde278-8d83-4bde-95e2-788d05269ee1",
   "metadata": {},
   "source": [
    "## _Leave area index_ [`lai`] prediction"
   ]
  },
  {
   "cell_type": "markdown",
   "id": "ae900804-7b5e-4c13-a2bb-d2014673d10d",
   "metadata": {
    "tags": []
   },
   "source": [
    "### Baseline model"
   ]
  },
  {
   "cell_type": "markdown",
   "id": "95079633-3c68-4393-ae6b-f7ec7e1b900d",
   "metadata": {},
   "source": [
    "#### No feature engineering"
   ]
  },
  {
   "cell_type": "code",
   "execution_count": 6,
   "id": "54e5f062-d482-42ec-984a-7841da22efe3",
   "metadata": {},
   "outputs": [],
   "source": [
    "df.dropna(inplace = True)"
   ]
  },
  {
   "cell_type": "code",
   "execution_count": 7,
   "id": "bb907bbf-3513-4ac8-b5e8-067e828091c8",
   "metadata": {},
   "outputs": [
    {
     "data": {
      "text/plain": [
       "(935, 2114)"
      ]
     },
     "execution_count": 7,
     "metadata": {},
     "output_type": "execute_result"
    }
   ],
   "source": [
    "df.shape"
   ]
  },
  {
   "cell_type": "code",
   "execution_count": 8,
   "id": "60066064-8195-45fe-a82c-81a5da559075",
   "metadata": {},
   "outputs": [],
   "source": [
    "df.drop('treeSpecies', axis = 1, inplace= True)"
   ]
  },
  {
   "cell_type": "code",
   "execution_count": 9,
   "id": "8eefef40-f6d7-4fd2-95ca-d56854f62b6d",
   "metadata": {},
   "outputs": [
    {
     "data": {
      "text/html": [
       "<div>\n",
       "<style scoped>\n",
       "    .dataframe tbody tr th:only-of-type {\n",
       "        vertical-align: middle;\n",
       "    }\n",
       "\n",
       "    .dataframe tbody tr th {\n",
       "        vertical-align: top;\n",
       "    }\n",
       "\n",
       "    .dataframe thead th {\n",
       "        text-align: right;\n",
       "    }\n",
       "</style>\n",
       "<table border=\"1\" class=\"dataframe\">\n",
       "  <thead>\n",
       "    <tr style=\"text-align: right;\">\n",
       "      <th></th>\n",
       "      <th>lai</th>\n",
       "      <th>wetness</th>\n",
       "      <th>Sentinel_2A_492.4</th>\n",
       "      <th>Sentinel_2A_559.8</th>\n",
       "      <th>Sentinel_2A_664.6</th>\n",
       "      <th>Sentinel_2A_704.1</th>\n",
       "      <th>Sentinel_2A_740.5</th>\n",
       "      <th>Sentinel_2A_782.8</th>\n",
       "      <th>Sentinel_2A_832.8</th>\n",
       "      <th>Sentinel_2A_864.7</th>\n",
       "      <th>...</th>\n",
       "      <th>w2491</th>\n",
       "      <th>w2492</th>\n",
       "      <th>w2493</th>\n",
       "      <th>w2494</th>\n",
       "      <th>w2495</th>\n",
       "      <th>w2496</th>\n",
       "      <th>w2497</th>\n",
       "      <th>w2498</th>\n",
       "      <th>w2499</th>\n",
       "      <th>w2500</th>\n",
       "    </tr>\n",
       "    <tr>\n",
       "      <th>id</th>\n",
       "      <th></th>\n",
       "      <th></th>\n",
       "      <th></th>\n",
       "      <th></th>\n",
       "      <th></th>\n",
       "      <th></th>\n",
       "      <th></th>\n",
       "      <th></th>\n",
       "      <th></th>\n",
       "      <th></th>\n",
       "      <th></th>\n",
       "      <th></th>\n",
       "      <th></th>\n",
       "      <th></th>\n",
       "      <th></th>\n",
       "      <th></th>\n",
       "      <th></th>\n",
       "      <th></th>\n",
       "      <th></th>\n",
       "      <th></th>\n",
       "      <th></th>\n",
       "    </tr>\n",
       "  </thead>\n",
       "  <tbody>\n",
       "    <tr>\n",
       "      <th>1</th>\n",
       "      <td>5.10</td>\n",
       "      <td>0.36</td>\n",
       "      <td>0.062092</td>\n",
       "      <td>0.131702</td>\n",
       "      <td>0.043197</td>\n",
       "      <td>0.177134</td>\n",
       "      <td>0.401750</td>\n",
       "      <td>0.458003</td>\n",
       "      <td>0.463287</td>\n",
       "      <td>0.465697</td>\n",
       "      <td>...</td>\n",
       "      <td>0.037392</td>\n",
       "      <td>0.026100</td>\n",
       "      <td>0.033480</td>\n",
       "      <td>0.027219</td>\n",
       "      <td>0.033905</td>\n",
       "      <td>0.017797</td>\n",
       "      <td>0.038259</td>\n",
       "      <td>0.020111</td>\n",
       "      <td>0.027921</td>\n",
       "      <td>0.027520</td>\n",
       "    </tr>\n",
       "    <tr>\n",
       "      <th>2</th>\n",
       "      <td>5.34</td>\n",
       "      <td>0.47</td>\n",
       "      <td>0.052807</td>\n",
       "      <td>0.129987</td>\n",
       "      <td>0.043061</td>\n",
       "      <td>0.153641</td>\n",
       "      <td>0.407523</td>\n",
       "      <td>0.466853</td>\n",
       "      <td>0.477236</td>\n",
       "      <td>0.469157</td>\n",
       "      <td>...</td>\n",
       "      <td>0.028002</td>\n",
       "      <td>0.030901</td>\n",
       "      <td>0.039650</td>\n",
       "      <td>0.029524</td>\n",
       "      <td>0.032461</td>\n",
       "      <td>0.030735</td>\n",
       "      <td>0.023527</td>\n",
       "      <td>0.029523</td>\n",
       "      <td>0.021542</td>\n",
       "      <td>0.026780</td>\n",
       "    </tr>\n",
       "    <tr>\n",
       "      <th>3</th>\n",
       "      <td>4.53</td>\n",
       "      <td>0.68</td>\n",
       "      <td>0.047937</td>\n",
       "      <td>0.139421</td>\n",
       "      <td>0.045780</td>\n",
       "      <td>0.157121</td>\n",
       "      <td>0.395428</td>\n",
       "      <td>0.441620</td>\n",
       "      <td>0.448626</td>\n",
       "      <td>0.448503</td>\n",
       "      <td>...</td>\n",
       "      <td>0.015169</td>\n",
       "      <td>0.020155</td>\n",
       "      <td>0.025696</td>\n",
       "      <td>0.026504</td>\n",
       "      <td>0.028994</td>\n",
       "      <td>0.031195</td>\n",
       "      <td>0.025666</td>\n",
       "      <td>0.032225</td>\n",
       "      <td>0.016128</td>\n",
       "      <td>0.026495</td>\n",
       "    </tr>\n",
       "    <tr>\n",
       "      <th>4</th>\n",
       "      <td>2.10</td>\n",
       "      <td>0.80</td>\n",
       "      <td>0.045907</td>\n",
       "      <td>0.107761</td>\n",
       "      <td>0.033984</td>\n",
       "      <td>0.128237</td>\n",
       "      <td>0.341315</td>\n",
       "      <td>0.385277</td>\n",
       "      <td>0.382241</td>\n",
       "      <td>0.380013</td>\n",
       "      <td>...</td>\n",
       "      <td>0.029487</td>\n",
       "      <td>0.031408</td>\n",
       "      <td>0.032888</td>\n",
       "      <td>0.029878</td>\n",
       "      <td>0.027617</td>\n",
       "      <td>0.034964</td>\n",
       "      <td>0.031996</td>\n",
       "      <td>0.032882</td>\n",
       "      <td>0.019543</td>\n",
       "      <td>0.121085</td>\n",
       "    </tr>\n",
       "    <tr>\n",
       "      <th>5</th>\n",
       "      <td>5.34</td>\n",
       "      <td>0.48</td>\n",
       "      <td>0.051712</td>\n",
       "      <td>0.136293</td>\n",
       "      <td>0.041502</td>\n",
       "      <td>0.167564</td>\n",
       "      <td>0.407460</td>\n",
       "      <td>0.454137</td>\n",
       "      <td>0.464966</td>\n",
       "      <td>0.459594</td>\n",
       "      <td>...</td>\n",
       "      <td>0.024510</td>\n",
       "      <td>0.023754</td>\n",
       "      <td>0.026276</td>\n",
       "      <td>0.031367</td>\n",
       "      <td>0.039625</td>\n",
       "      <td>0.036997</td>\n",
       "      <td>0.022577</td>\n",
       "      <td>0.039619</td>\n",
       "      <td>0.031636</td>\n",
       "      <td>0.022230</td>\n",
       "    </tr>\n",
       "  </tbody>\n",
       "</table>\n",
       "<p>5 rows × 2113 columns</p>\n",
       "</div>"
      ],
      "text/plain": [
       "     lai  wetness  Sentinel_2A_492.4  Sentinel_2A_559.8  Sentinel_2A_664.6  \\\n",
       "id                                                                           \n",
       "1   5.10     0.36           0.062092           0.131702           0.043197   \n",
       "2   5.34     0.47           0.052807           0.129987           0.043061   \n",
       "3   4.53     0.68           0.047937           0.139421           0.045780   \n",
       "4   2.10     0.80           0.045907           0.107761           0.033984   \n",
       "5   5.34     0.48           0.051712           0.136293           0.041502   \n",
       "\n",
       "    Sentinel_2A_704.1  Sentinel_2A_740.5  Sentinel_2A_782.8  \\\n",
       "id                                                            \n",
       "1            0.177134           0.401750           0.458003   \n",
       "2            0.153641           0.407523           0.466853   \n",
       "3            0.157121           0.395428           0.441620   \n",
       "4            0.128237           0.341315           0.385277   \n",
       "5            0.167564           0.407460           0.454137   \n",
       "\n",
       "    Sentinel_2A_832.8  Sentinel_2A_864.7  ...     w2491     w2492     w2493  \\\n",
       "id                                        ...                                 \n",
       "1            0.463287           0.465697  ...  0.037392  0.026100  0.033480   \n",
       "2            0.477236           0.469157  ...  0.028002  0.030901  0.039650   \n",
       "3            0.448626           0.448503  ...  0.015169  0.020155  0.025696   \n",
       "4            0.382241           0.380013  ...  0.029487  0.031408  0.032888   \n",
       "5            0.464966           0.459594  ...  0.024510  0.023754  0.026276   \n",
       "\n",
       "       w2494     w2495     w2496     w2497     w2498     w2499     w2500  \n",
       "id                                                                        \n",
       "1   0.027219  0.033905  0.017797  0.038259  0.020111  0.027921  0.027520  \n",
       "2   0.029524  0.032461  0.030735  0.023527  0.029523  0.021542  0.026780  \n",
       "3   0.026504  0.028994  0.031195  0.025666  0.032225  0.016128  0.026495  \n",
       "4   0.029878  0.027617  0.034964  0.031996  0.032882  0.019543  0.121085  \n",
       "5   0.031367  0.039625  0.036997  0.022577  0.039619  0.031636  0.022230  \n",
       "\n",
       "[5 rows x 2113 columns]"
      ]
     },
     "execution_count": 9,
     "metadata": {},
     "output_type": "execute_result"
    }
   ],
   "source": [
    "df.head()"
   ]
  },
  {
   "cell_type": "markdown",
   "id": "cfa1a5ad-21f7-4cd7-a4f4-a876ba1b1626",
   "metadata": {},
   "source": [
    "#### Use only `wetness` and `Sentinel_2A_....` columns"
   ]
  },
  {
   "cell_type": "code",
   "execution_count": 10,
   "id": "5e92afed-d9a0-4d43-b06b-483f2fc352b7",
   "metadata": {},
   "outputs": [
    {
     "data": {
      "text/plain": [
       "Index(['wetness', 'Sentinel_2A_492.4', 'Sentinel_2A_559.8',\n",
       "       'Sentinel_2A_664.6', 'Sentinel_2A_704.1', 'Sentinel_2A_740.5',\n",
       "       'Sentinel_2A_782.8', 'Sentinel_2A_832.8', 'Sentinel_2A_864.7',\n",
       "       'Sentinel_2A_1613.7', 'Sentinel_2A_2202.4'],\n",
       "      dtype='object')"
      ]
     },
     "execution_count": 10,
     "metadata": {},
     "output_type": "execute_result"
    }
   ],
   "source": [
    "df.columns[1:12]"
   ]
  },
  {
   "cell_type": "code",
   "execution_count": 11,
   "id": "2a1ed98a-b9a8-4600-b526-e451b98cea54",
   "metadata": {},
   "outputs": [],
   "source": [
    "y = df['lai']"
   ]
  },
  {
   "cell_type": "code",
   "execution_count": 12,
   "id": "237e2cfd-c066-49cd-ba18-83dd959d846c",
   "metadata": {},
   "outputs": [],
   "source": [
    "X = df.iloc[:,1:12]"
   ]
  },
  {
   "cell_type": "code",
   "execution_count": 13,
   "id": "9ec1cc28-9bb6-4a50-87a5-ae1d613321a1",
   "metadata": {},
   "outputs": [
    {
     "data": {
      "text/plain": [
       "Index(['wetness', 'Sentinel_2A_492.4', 'Sentinel_2A_559.8',\n",
       "       'Sentinel_2A_664.6', 'Sentinel_2A_704.1', 'Sentinel_2A_740.5',\n",
       "       'Sentinel_2A_782.8', 'Sentinel_2A_832.8', 'Sentinel_2A_864.7',\n",
       "       'Sentinel_2A_1613.7', 'Sentinel_2A_2202.4'],\n",
       "      dtype='object')"
      ]
     },
     "execution_count": 13,
     "metadata": {},
     "output_type": "execute_result"
    }
   ],
   "source": [
    "X.columns"
   ]
  },
  {
   "cell_type": "markdown",
   "id": "bda6322e-af21-43da-aedc-c390d1dbf503",
   "metadata": {},
   "source": [
    "#### Simple regression models, no hyperparameter optimization"
   ]
  },
  {
   "cell_type": "code",
   "execution_count": 14,
   "id": "64dcec46-44fa-471c-b7c2-76d5cdda387a",
   "metadata": {},
   "outputs": [],
   "source": [
    "X_train, X_test, y_train, y_test = train_test_split(X,y, random_state=42)\n",
    "\n",
    "# split train into train and val \n",
    "X_train, X_val, y_train, y_val = train_test_split(X_train,y_train, random_state=42)"
   ]
  },
  {
   "cell_type": "markdown",
   "id": "dc568442-ccb7-4ff7-a199-95467cd1f698",
   "metadata": {},
   "source": [
    "##### Linear Regression"
   ]
  },
  {
   "cell_type": "code",
   "execution_count": 15,
   "id": "e2fe3c14-e047-4dc2-9ef7-092581bbd99d",
   "metadata": {},
   "outputs": [],
   "source": [
    "m = LinearRegression()"
   ]
  },
  {
   "cell_type": "code",
   "execution_count": 16,
   "id": "0f349985-0d37-43a5-9d7a-be9f61973b1f",
   "metadata": {},
   "outputs": [
    {
     "data": {
      "text/html": [
       "<style>#sk-container-id-1 {color: black;}#sk-container-id-1 pre{padding: 0;}#sk-container-id-1 div.sk-toggleable {background-color: white;}#sk-container-id-1 label.sk-toggleable__label {cursor: pointer;display: block;width: 100%;margin-bottom: 0;padding: 0.3em;box-sizing: border-box;text-align: center;}#sk-container-id-1 label.sk-toggleable__label-arrow:before {content: \"▸\";float: left;margin-right: 0.25em;color: #696969;}#sk-container-id-1 label.sk-toggleable__label-arrow:hover:before {color: black;}#sk-container-id-1 div.sk-estimator:hover label.sk-toggleable__label-arrow:before {color: black;}#sk-container-id-1 div.sk-toggleable__content {max-height: 0;max-width: 0;overflow: hidden;text-align: left;background-color: #f0f8ff;}#sk-container-id-1 div.sk-toggleable__content pre {margin: 0.2em;color: black;border-radius: 0.25em;background-color: #f0f8ff;}#sk-container-id-1 input.sk-toggleable__control:checked~div.sk-toggleable__content {max-height: 200px;max-width: 100%;overflow: auto;}#sk-container-id-1 input.sk-toggleable__control:checked~label.sk-toggleable__label-arrow:before {content: \"▾\";}#sk-container-id-1 div.sk-estimator input.sk-toggleable__control:checked~label.sk-toggleable__label {background-color: #d4ebff;}#sk-container-id-1 div.sk-label input.sk-toggleable__control:checked~label.sk-toggleable__label {background-color: #d4ebff;}#sk-container-id-1 input.sk-hidden--visually {border: 0;clip: rect(1px 1px 1px 1px);clip: rect(1px, 1px, 1px, 1px);height: 1px;margin: -1px;overflow: hidden;padding: 0;position: absolute;width: 1px;}#sk-container-id-1 div.sk-estimator {font-family: monospace;background-color: #f0f8ff;border: 1px dotted black;border-radius: 0.25em;box-sizing: border-box;margin-bottom: 0.5em;}#sk-container-id-1 div.sk-estimator:hover {background-color: #d4ebff;}#sk-container-id-1 div.sk-parallel-item::after {content: \"\";width: 100%;border-bottom: 1px solid gray;flex-grow: 1;}#sk-container-id-1 div.sk-label:hover label.sk-toggleable__label {background-color: #d4ebff;}#sk-container-id-1 div.sk-serial::before {content: \"\";position: absolute;border-left: 1px solid gray;box-sizing: border-box;top: 0;bottom: 0;left: 50%;z-index: 0;}#sk-container-id-1 div.sk-serial {display: flex;flex-direction: column;align-items: center;background-color: white;padding-right: 0.2em;padding-left: 0.2em;position: relative;}#sk-container-id-1 div.sk-item {position: relative;z-index: 1;}#sk-container-id-1 div.sk-parallel {display: flex;align-items: stretch;justify-content: center;background-color: white;position: relative;}#sk-container-id-1 div.sk-item::before, #sk-container-id-1 div.sk-parallel-item::before {content: \"\";position: absolute;border-left: 1px solid gray;box-sizing: border-box;top: 0;bottom: 0;left: 50%;z-index: -1;}#sk-container-id-1 div.sk-parallel-item {display: flex;flex-direction: column;z-index: 1;position: relative;background-color: white;}#sk-container-id-1 div.sk-parallel-item:first-child::after {align-self: flex-end;width: 50%;}#sk-container-id-1 div.sk-parallel-item:last-child::after {align-self: flex-start;width: 50%;}#sk-container-id-1 div.sk-parallel-item:only-child::after {width: 0;}#sk-container-id-1 div.sk-dashed-wrapped {border: 1px dashed gray;margin: 0 0.4em 0.5em 0.4em;box-sizing: border-box;padding-bottom: 0.4em;background-color: white;}#sk-container-id-1 div.sk-label label {font-family: monospace;font-weight: bold;display: inline-block;line-height: 1.2em;}#sk-container-id-1 div.sk-label-container {text-align: center;}#sk-container-id-1 div.sk-container {/* jupyter's `normalize.less` sets `[hidden] { display: none; }` but bootstrap.min.css set `[hidden] { display: none !important; }` so we also need the `!important` here to be able to override the default hidden behavior on the sphinx rendered scikit-learn.org. See: https://github.com/scikit-learn/scikit-learn/issues/21755 */display: inline-block !important;position: relative;}#sk-container-id-1 div.sk-text-repr-fallback {display: none;}</style><div id=\"sk-container-id-1\" class=\"sk-top-container\"><div class=\"sk-text-repr-fallback\"><pre>LinearRegression()</pre><b>In a Jupyter environment, please rerun this cell to show the HTML representation or trust the notebook. <br />On GitHub, the HTML representation is unable to render, please try loading this page with nbviewer.org.</b></div><div class=\"sk-container\" hidden><div class=\"sk-item\"><div class=\"sk-estimator sk-toggleable\"><input class=\"sk-toggleable__control sk-hidden--visually\" id=\"sk-estimator-id-1\" type=\"checkbox\" checked><label for=\"sk-estimator-id-1\" class=\"sk-toggleable__label sk-toggleable__label-arrow\">LinearRegression</label><div class=\"sk-toggleable__content\"><pre>LinearRegression()</pre></div></div></div></div></div>"
      ],
      "text/plain": [
       "LinearRegression()"
      ]
     },
     "execution_count": 16,
     "metadata": {},
     "output_type": "execute_result"
    }
   ],
   "source": [
    "m.fit(X_train, y_train)"
   ]
  },
  {
   "cell_type": "code",
   "execution_count": 17,
   "id": "c4b502e8-69d7-4b8c-ac7e-921eb4d736d9",
   "metadata": {},
   "outputs": [
    {
     "data": {
      "text/plain": [
       "0.5089986581328299"
      ]
     },
     "execution_count": 17,
     "metadata": {},
     "output_type": "execute_result"
    }
   ],
   "source": [
    "m.score(X_train, y_train)"
   ]
  },
  {
   "cell_type": "code",
   "execution_count": 18,
   "id": "e70f88c0-ac81-43d6-89e2-5b90e1ecebee",
   "metadata": {},
   "outputs": [
    {
     "data": {
      "text/plain": [
       "0.5154667730598539"
      ]
     },
     "execution_count": 18,
     "metadata": {},
     "output_type": "execute_result"
    }
   ],
   "source": [
    "m.score(X_test, y_test)"
   ]
  },
  {
   "cell_type": "markdown",
   "id": "951f0f8c-3686-4a9b-b43b-565ed1c3d242",
   "metadata": {},
   "source": [
    "##### Random Forest Regressor"
   ]
  },
  {
   "cell_type": "code",
   "execution_count": 19,
   "id": "00e16942-0dfe-4a28-b2f9-73d323ef51df",
   "metadata": {},
   "outputs": [],
   "source": [
    "rf = RandomForestRegressor()"
   ]
  },
  {
   "cell_type": "code",
   "execution_count": 20,
   "id": "8e8df1cb-68ff-4481-8eba-f07394ddc9ed",
   "metadata": {},
   "outputs": [
    {
     "data": {
      "text/html": [
       "<style>#sk-container-id-2 {color: black;}#sk-container-id-2 pre{padding: 0;}#sk-container-id-2 div.sk-toggleable {background-color: white;}#sk-container-id-2 label.sk-toggleable__label {cursor: pointer;display: block;width: 100%;margin-bottom: 0;padding: 0.3em;box-sizing: border-box;text-align: center;}#sk-container-id-2 label.sk-toggleable__label-arrow:before {content: \"▸\";float: left;margin-right: 0.25em;color: #696969;}#sk-container-id-2 label.sk-toggleable__label-arrow:hover:before {color: black;}#sk-container-id-2 div.sk-estimator:hover label.sk-toggleable__label-arrow:before {color: black;}#sk-container-id-2 div.sk-toggleable__content {max-height: 0;max-width: 0;overflow: hidden;text-align: left;background-color: #f0f8ff;}#sk-container-id-2 div.sk-toggleable__content pre {margin: 0.2em;color: black;border-radius: 0.25em;background-color: #f0f8ff;}#sk-container-id-2 input.sk-toggleable__control:checked~div.sk-toggleable__content {max-height: 200px;max-width: 100%;overflow: auto;}#sk-container-id-2 input.sk-toggleable__control:checked~label.sk-toggleable__label-arrow:before {content: \"▾\";}#sk-container-id-2 div.sk-estimator input.sk-toggleable__control:checked~label.sk-toggleable__label {background-color: #d4ebff;}#sk-container-id-2 div.sk-label input.sk-toggleable__control:checked~label.sk-toggleable__label {background-color: #d4ebff;}#sk-container-id-2 input.sk-hidden--visually {border: 0;clip: rect(1px 1px 1px 1px);clip: rect(1px, 1px, 1px, 1px);height: 1px;margin: -1px;overflow: hidden;padding: 0;position: absolute;width: 1px;}#sk-container-id-2 div.sk-estimator {font-family: monospace;background-color: #f0f8ff;border: 1px dotted black;border-radius: 0.25em;box-sizing: border-box;margin-bottom: 0.5em;}#sk-container-id-2 div.sk-estimator:hover {background-color: #d4ebff;}#sk-container-id-2 div.sk-parallel-item::after {content: \"\";width: 100%;border-bottom: 1px solid gray;flex-grow: 1;}#sk-container-id-2 div.sk-label:hover label.sk-toggleable__label {background-color: #d4ebff;}#sk-container-id-2 div.sk-serial::before {content: \"\";position: absolute;border-left: 1px solid gray;box-sizing: border-box;top: 0;bottom: 0;left: 50%;z-index: 0;}#sk-container-id-2 div.sk-serial {display: flex;flex-direction: column;align-items: center;background-color: white;padding-right: 0.2em;padding-left: 0.2em;position: relative;}#sk-container-id-2 div.sk-item {position: relative;z-index: 1;}#sk-container-id-2 div.sk-parallel {display: flex;align-items: stretch;justify-content: center;background-color: white;position: relative;}#sk-container-id-2 div.sk-item::before, #sk-container-id-2 div.sk-parallel-item::before {content: \"\";position: absolute;border-left: 1px solid gray;box-sizing: border-box;top: 0;bottom: 0;left: 50%;z-index: -1;}#sk-container-id-2 div.sk-parallel-item {display: flex;flex-direction: column;z-index: 1;position: relative;background-color: white;}#sk-container-id-2 div.sk-parallel-item:first-child::after {align-self: flex-end;width: 50%;}#sk-container-id-2 div.sk-parallel-item:last-child::after {align-self: flex-start;width: 50%;}#sk-container-id-2 div.sk-parallel-item:only-child::after {width: 0;}#sk-container-id-2 div.sk-dashed-wrapped {border: 1px dashed gray;margin: 0 0.4em 0.5em 0.4em;box-sizing: border-box;padding-bottom: 0.4em;background-color: white;}#sk-container-id-2 div.sk-label label {font-family: monospace;font-weight: bold;display: inline-block;line-height: 1.2em;}#sk-container-id-2 div.sk-label-container {text-align: center;}#sk-container-id-2 div.sk-container {/* jupyter's `normalize.less` sets `[hidden] { display: none; }` but bootstrap.min.css set `[hidden] { display: none !important; }` so we also need the `!important` here to be able to override the default hidden behavior on the sphinx rendered scikit-learn.org. See: https://github.com/scikit-learn/scikit-learn/issues/21755 */display: inline-block !important;position: relative;}#sk-container-id-2 div.sk-text-repr-fallback {display: none;}</style><div id=\"sk-container-id-2\" class=\"sk-top-container\"><div class=\"sk-text-repr-fallback\"><pre>RandomForestRegressor()</pre><b>In a Jupyter environment, please rerun this cell to show the HTML representation or trust the notebook. <br />On GitHub, the HTML representation is unable to render, please try loading this page with nbviewer.org.</b></div><div class=\"sk-container\" hidden><div class=\"sk-item\"><div class=\"sk-estimator sk-toggleable\"><input class=\"sk-toggleable__control sk-hidden--visually\" id=\"sk-estimator-id-2\" type=\"checkbox\" checked><label for=\"sk-estimator-id-2\" class=\"sk-toggleable__label sk-toggleable__label-arrow\">RandomForestRegressor</label><div class=\"sk-toggleable__content\"><pre>RandomForestRegressor()</pre></div></div></div></div></div>"
      ],
      "text/plain": [
       "RandomForestRegressor()"
      ]
     },
     "execution_count": 20,
     "metadata": {},
     "output_type": "execute_result"
    }
   ],
   "source": [
    "rf.fit(X_train, y_train)"
   ]
  },
  {
   "cell_type": "code",
   "execution_count": 21,
   "id": "1a7d29ae-3d1d-47a1-9f89-64052eee6bf0",
   "metadata": {},
   "outputs": [
    {
     "data": {
      "text/plain": [
       "0.9799373378800561"
      ]
     },
     "execution_count": 21,
     "metadata": {},
     "output_type": "execute_result"
    }
   ],
   "source": [
    "rf.score(X_train, y_train)"
   ]
  },
  {
   "cell_type": "code",
   "execution_count": 22,
   "id": "61349e13-b0b6-46ef-ac29-08d0accb3167",
   "metadata": {},
   "outputs": [
    {
     "data": {
      "text/plain": [
       "0.8409934622926775"
      ]
     },
     "execution_count": 22,
     "metadata": {},
     "output_type": "execute_result"
    }
   ],
   "source": [
    "rf.score(X_test, y_test)"
   ]
  },
  {
   "cell_type": "code",
   "execution_count": null,
   "id": "1cb3c732",
   "metadata": {},
   "outputs": [],
   "source": []
  },
  {
   "cell_type": "markdown",
   "id": "3bdd8dca",
   "metadata": {},
   "source": [
    "#### XGBoost Regressor\n"
   ]
  },
  {
   "cell_type": "code",
   "execution_count": 23,
   "id": "53bae2d7",
   "metadata": {},
   "outputs": [
    {
     "name": "stderr",
     "output_type": "stream",
     "text": [
      "/home/michal/.local/lib/python3.11/site-packages/xgboost/core.py:160: UserWarning: [15:48:14] WARNING: /workspace/src/objective/regression_obj.cu:209: reg:linear is now deprecated in favor of reg:squarederror.\n",
      "  warnings.warn(smsg, UserWarning)\n"
     ]
    },
    {
     "data": {
      "text/html": [
       "<style>#sk-container-id-3 {color: black;}#sk-container-id-3 pre{padding: 0;}#sk-container-id-3 div.sk-toggleable {background-color: white;}#sk-container-id-3 label.sk-toggleable__label {cursor: pointer;display: block;width: 100%;margin-bottom: 0;padding: 0.3em;box-sizing: border-box;text-align: center;}#sk-container-id-3 label.sk-toggleable__label-arrow:before {content: \"▸\";float: left;margin-right: 0.25em;color: #696969;}#sk-container-id-3 label.sk-toggleable__label-arrow:hover:before {color: black;}#sk-container-id-3 div.sk-estimator:hover label.sk-toggleable__label-arrow:before {color: black;}#sk-container-id-3 div.sk-toggleable__content {max-height: 0;max-width: 0;overflow: hidden;text-align: left;background-color: #f0f8ff;}#sk-container-id-3 div.sk-toggleable__content pre {margin: 0.2em;color: black;border-radius: 0.25em;background-color: #f0f8ff;}#sk-container-id-3 input.sk-toggleable__control:checked~div.sk-toggleable__content {max-height: 200px;max-width: 100%;overflow: auto;}#sk-container-id-3 input.sk-toggleable__control:checked~label.sk-toggleable__label-arrow:before {content: \"▾\";}#sk-container-id-3 div.sk-estimator input.sk-toggleable__control:checked~label.sk-toggleable__label {background-color: #d4ebff;}#sk-container-id-3 div.sk-label input.sk-toggleable__control:checked~label.sk-toggleable__label {background-color: #d4ebff;}#sk-container-id-3 input.sk-hidden--visually {border: 0;clip: rect(1px 1px 1px 1px);clip: rect(1px, 1px, 1px, 1px);height: 1px;margin: -1px;overflow: hidden;padding: 0;position: absolute;width: 1px;}#sk-container-id-3 div.sk-estimator {font-family: monospace;background-color: #f0f8ff;border: 1px dotted black;border-radius: 0.25em;box-sizing: border-box;margin-bottom: 0.5em;}#sk-container-id-3 div.sk-estimator:hover {background-color: #d4ebff;}#sk-container-id-3 div.sk-parallel-item::after {content: \"\";width: 100%;border-bottom: 1px solid gray;flex-grow: 1;}#sk-container-id-3 div.sk-label:hover label.sk-toggleable__label {background-color: #d4ebff;}#sk-container-id-3 div.sk-serial::before {content: \"\";position: absolute;border-left: 1px solid gray;box-sizing: border-box;top: 0;bottom: 0;left: 50%;z-index: 0;}#sk-container-id-3 div.sk-serial {display: flex;flex-direction: column;align-items: center;background-color: white;padding-right: 0.2em;padding-left: 0.2em;position: relative;}#sk-container-id-3 div.sk-item {position: relative;z-index: 1;}#sk-container-id-3 div.sk-parallel {display: flex;align-items: stretch;justify-content: center;background-color: white;position: relative;}#sk-container-id-3 div.sk-item::before, #sk-container-id-3 div.sk-parallel-item::before {content: \"\";position: absolute;border-left: 1px solid gray;box-sizing: border-box;top: 0;bottom: 0;left: 50%;z-index: -1;}#sk-container-id-3 div.sk-parallel-item {display: flex;flex-direction: column;z-index: 1;position: relative;background-color: white;}#sk-container-id-3 div.sk-parallel-item:first-child::after {align-self: flex-end;width: 50%;}#sk-container-id-3 div.sk-parallel-item:last-child::after {align-self: flex-start;width: 50%;}#sk-container-id-3 div.sk-parallel-item:only-child::after {width: 0;}#sk-container-id-3 div.sk-dashed-wrapped {border: 1px dashed gray;margin: 0 0.4em 0.5em 0.4em;box-sizing: border-box;padding-bottom: 0.4em;background-color: white;}#sk-container-id-3 div.sk-label label {font-family: monospace;font-weight: bold;display: inline-block;line-height: 1.2em;}#sk-container-id-3 div.sk-label-container {text-align: center;}#sk-container-id-3 div.sk-container {/* jupyter's `normalize.less` sets `[hidden] { display: none; }` but bootstrap.min.css set `[hidden] { display: none !important; }` so we also need the `!important` here to be able to override the default hidden behavior on the sphinx rendered scikit-learn.org. See: https://github.com/scikit-learn/scikit-learn/issues/21755 */display: inline-block !important;position: relative;}#sk-container-id-3 div.sk-text-repr-fallback {display: none;}</style><div id=\"sk-container-id-3\" class=\"sk-top-container\"><div class=\"sk-text-repr-fallback\"><pre>XGBRegressor(base_score=None, booster=None, callbacks=None,\n",
       "             colsample_bylevel=None, colsample_bynode=None,\n",
       "             colsample_bytree=None, device=None, early_stopping_rounds=None,\n",
       "             enable_categorical=False, eval_metric=None, feature_types=None,\n",
       "             gamma=None, grow_policy=None, importance_type=None,\n",
       "             interaction_constraints=None, learning_rate=None, max_bin=None,\n",
       "             max_cat_threshold=None, max_cat_to_onehot=None,\n",
       "             max_delta_step=None, max_depth=None, max_leaves=None,\n",
       "             min_child_weight=None, missing=nan, monotone_constraints=None,\n",
       "             multi_strategy=None, n_estimators=None, n_jobs=None,\n",
       "             num_parallel_tree=None, objective=&#x27;reg:linear&#x27;, ...)</pre><b>In a Jupyter environment, please rerun this cell to show the HTML representation or trust the notebook. <br />On GitHub, the HTML representation is unable to render, please try loading this page with nbviewer.org.</b></div><div class=\"sk-container\" hidden><div class=\"sk-item\"><div class=\"sk-estimator sk-toggleable\"><input class=\"sk-toggleable__control sk-hidden--visually\" id=\"sk-estimator-id-3\" type=\"checkbox\" checked><label for=\"sk-estimator-id-3\" class=\"sk-toggleable__label sk-toggleable__label-arrow\">XGBRegressor</label><div class=\"sk-toggleable__content\"><pre>XGBRegressor(base_score=None, booster=None, callbacks=None,\n",
       "             colsample_bylevel=None, colsample_bynode=None,\n",
       "             colsample_bytree=None, device=None, early_stopping_rounds=None,\n",
       "             enable_categorical=False, eval_metric=None, feature_types=None,\n",
       "             gamma=None, grow_policy=None, importance_type=None,\n",
       "             interaction_constraints=None, learning_rate=None, max_bin=None,\n",
       "             max_cat_threshold=None, max_cat_to_onehot=None,\n",
       "             max_delta_step=None, max_depth=None, max_leaves=None,\n",
       "             min_child_weight=None, missing=nan, monotone_constraints=None,\n",
       "             multi_strategy=None, n_estimators=None, n_jobs=None,\n",
       "             num_parallel_tree=None, objective=&#x27;reg:linear&#x27;, ...)</pre></div></div></div></div></div>"
      ],
      "text/plain": [
       "XGBRegressor(base_score=None, booster=None, callbacks=None,\n",
       "             colsample_bylevel=None, colsample_bynode=None,\n",
       "             colsample_bytree=None, device=None, early_stopping_rounds=None,\n",
       "             enable_categorical=False, eval_metric=None, feature_types=None,\n",
       "             gamma=None, grow_policy=None, importance_type=None,\n",
       "             interaction_constraints=None, learning_rate=None, max_bin=None,\n",
       "             max_cat_threshold=None, max_cat_to_onehot=None,\n",
       "             max_delta_step=None, max_depth=None, max_leaves=None,\n",
       "             min_child_weight=None, missing=nan, monotone_constraints=None,\n",
       "             multi_strategy=None, n_estimators=None, n_jobs=None,\n",
       "             num_parallel_tree=None, objective='reg:linear', ...)"
      ]
     },
     "execution_count": 23,
     "metadata": {},
     "output_type": "execute_result"
    }
   ],
   "source": [
    "import xgboost as xgb\n",
    "\n",
    "\n",
    "xgb_model = xgb.XGBRegressor(objective=\"reg:linear\", random_state=42)\n",
    "\n",
    "xgb_model.fit(X_train, y_train)\n"
   ]
  },
  {
   "cell_type": "code",
   "execution_count": 24,
   "id": "0ceb2b60",
   "metadata": {},
   "outputs": [
    {
     "data": {
      "text/plain": [
       "0.999992870591667"
      ]
     },
     "execution_count": 24,
     "metadata": {},
     "output_type": "execute_result"
    }
   ],
   "source": [
    "\n",
    "xgb_model.score(X_train, y_train)"
   ]
  },
  {
   "cell_type": "code",
   "execution_count": 25,
   "id": "e28f9400",
   "metadata": {},
   "outputs": [
    {
     "data": {
      "text/plain": [
       "0.8497400653582362"
      ]
     },
     "execution_count": 25,
     "metadata": {},
     "output_type": "execute_result"
    }
   ],
   "source": [
    "xgb_model.score(X_test, y_test)"
   ]
  },
  {
   "cell_type": "markdown",
   "id": "8b5d47d1",
   "metadata": {},
   "source": [
    "### Polynomial features"
   ]
  },
  {
   "cell_type": "code",
   "execution_count": 26,
   "id": "144c5d75",
   "metadata": {},
   "outputs": [
    {
     "data": {
      "text/html": [
       "<style>#sk-container-id-4 {color: black;}#sk-container-id-4 pre{padding: 0;}#sk-container-id-4 div.sk-toggleable {background-color: white;}#sk-container-id-4 label.sk-toggleable__label {cursor: pointer;display: block;width: 100%;margin-bottom: 0;padding: 0.3em;box-sizing: border-box;text-align: center;}#sk-container-id-4 label.sk-toggleable__label-arrow:before {content: \"▸\";float: left;margin-right: 0.25em;color: #696969;}#sk-container-id-4 label.sk-toggleable__label-arrow:hover:before {color: black;}#sk-container-id-4 div.sk-estimator:hover label.sk-toggleable__label-arrow:before {color: black;}#sk-container-id-4 div.sk-toggleable__content {max-height: 0;max-width: 0;overflow: hidden;text-align: left;background-color: #f0f8ff;}#sk-container-id-4 div.sk-toggleable__content pre {margin: 0.2em;color: black;border-radius: 0.25em;background-color: #f0f8ff;}#sk-container-id-4 input.sk-toggleable__control:checked~div.sk-toggleable__content {max-height: 200px;max-width: 100%;overflow: auto;}#sk-container-id-4 input.sk-toggleable__control:checked~label.sk-toggleable__label-arrow:before {content: \"▾\";}#sk-container-id-4 div.sk-estimator input.sk-toggleable__control:checked~label.sk-toggleable__label {background-color: #d4ebff;}#sk-container-id-4 div.sk-label input.sk-toggleable__control:checked~label.sk-toggleable__label {background-color: #d4ebff;}#sk-container-id-4 input.sk-hidden--visually {border: 0;clip: rect(1px 1px 1px 1px);clip: rect(1px, 1px, 1px, 1px);height: 1px;margin: -1px;overflow: hidden;padding: 0;position: absolute;width: 1px;}#sk-container-id-4 div.sk-estimator {font-family: monospace;background-color: #f0f8ff;border: 1px dotted black;border-radius: 0.25em;box-sizing: border-box;margin-bottom: 0.5em;}#sk-container-id-4 div.sk-estimator:hover {background-color: #d4ebff;}#sk-container-id-4 div.sk-parallel-item::after {content: \"\";width: 100%;border-bottom: 1px solid gray;flex-grow: 1;}#sk-container-id-4 div.sk-label:hover label.sk-toggleable__label {background-color: #d4ebff;}#sk-container-id-4 div.sk-serial::before {content: \"\";position: absolute;border-left: 1px solid gray;box-sizing: border-box;top: 0;bottom: 0;left: 50%;z-index: 0;}#sk-container-id-4 div.sk-serial {display: flex;flex-direction: column;align-items: center;background-color: white;padding-right: 0.2em;padding-left: 0.2em;position: relative;}#sk-container-id-4 div.sk-item {position: relative;z-index: 1;}#sk-container-id-4 div.sk-parallel {display: flex;align-items: stretch;justify-content: center;background-color: white;position: relative;}#sk-container-id-4 div.sk-item::before, #sk-container-id-4 div.sk-parallel-item::before {content: \"\";position: absolute;border-left: 1px solid gray;box-sizing: border-box;top: 0;bottom: 0;left: 50%;z-index: -1;}#sk-container-id-4 div.sk-parallel-item {display: flex;flex-direction: column;z-index: 1;position: relative;background-color: white;}#sk-container-id-4 div.sk-parallel-item:first-child::after {align-self: flex-end;width: 50%;}#sk-container-id-4 div.sk-parallel-item:last-child::after {align-self: flex-start;width: 50%;}#sk-container-id-4 div.sk-parallel-item:only-child::after {width: 0;}#sk-container-id-4 div.sk-dashed-wrapped {border: 1px dashed gray;margin: 0 0.4em 0.5em 0.4em;box-sizing: border-box;padding-bottom: 0.4em;background-color: white;}#sk-container-id-4 div.sk-label label {font-family: monospace;font-weight: bold;display: inline-block;line-height: 1.2em;}#sk-container-id-4 div.sk-label-container {text-align: center;}#sk-container-id-4 div.sk-container {/* jupyter's `normalize.less` sets `[hidden] { display: none; }` but bootstrap.min.css set `[hidden] { display: none !important; }` so we also need the `!important` here to be able to override the default hidden behavior on the sphinx rendered scikit-learn.org. See: https://github.com/scikit-learn/scikit-learn/issues/21755 */display: inline-block !important;position: relative;}#sk-container-id-4 div.sk-text-repr-fallback {display: none;}</style><div id=\"sk-container-id-4\" class=\"sk-top-container\"><div class=\"sk-text-repr-fallback\"><pre>Pipeline(steps=[(&#x27;polynomialfeatures&#x27;, PolynomialFeatures(degree=3)),\n",
       "                (&#x27;ridge&#x27;, Ridge())])</pre><b>In a Jupyter environment, please rerun this cell to show the HTML representation or trust the notebook. <br />On GitHub, the HTML representation is unable to render, please try loading this page with nbviewer.org.</b></div><div class=\"sk-container\" hidden><div class=\"sk-item sk-dashed-wrapped\"><div class=\"sk-label-container\"><div class=\"sk-label sk-toggleable\"><input class=\"sk-toggleable__control sk-hidden--visually\" id=\"sk-estimator-id-4\" type=\"checkbox\" ><label for=\"sk-estimator-id-4\" class=\"sk-toggleable__label sk-toggleable__label-arrow\">Pipeline</label><div class=\"sk-toggleable__content\"><pre>Pipeline(steps=[(&#x27;polynomialfeatures&#x27;, PolynomialFeatures(degree=3)),\n",
       "                (&#x27;ridge&#x27;, Ridge())])</pre></div></div></div><div class=\"sk-serial\"><div class=\"sk-item\"><div class=\"sk-estimator sk-toggleable\"><input class=\"sk-toggleable__control sk-hidden--visually\" id=\"sk-estimator-id-5\" type=\"checkbox\" ><label for=\"sk-estimator-id-5\" class=\"sk-toggleable__label sk-toggleable__label-arrow\">PolynomialFeatures</label><div class=\"sk-toggleable__content\"><pre>PolynomialFeatures(degree=3)</pre></div></div></div><div class=\"sk-item\"><div class=\"sk-estimator sk-toggleable\"><input class=\"sk-toggleable__control sk-hidden--visually\" id=\"sk-estimator-id-6\" type=\"checkbox\" ><label for=\"sk-estimator-id-6\" class=\"sk-toggleable__label sk-toggleable__label-arrow\">Ridge</label><div class=\"sk-toggleable__content\"><pre>Ridge()</pre></div></div></div></div></div></div></div>"
      ],
      "text/plain": [
       "Pipeline(steps=[('polynomialfeatures', PolynomialFeatures(degree=3)),\n",
       "                ('ridge', Ridge())])"
      ]
     },
     "execution_count": 26,
     "metadata": {},
     "output_type": "execute_result"
    }
   ],
   "source": [
    "# polynomial regression\n",
    "from sklearn.preprocessing import PolynomialFeatures\n",
    "from sklearn.pipeline import make_pipeline\n",
    "from sklearn.linear_model import Ridge\n",
    "\n",
    "degree = 3\n",
    "model = make_pipeline(PolynomialFeatures(degree), Ridge())\n",
    "model.fit(X_train, y_train)\n"
   ]
  },
  {
   "cell_type": "code",
   "execution_count": 27,
   "id": "9e155843",
   "metadata": {},
   "outputs": [
    {
     "data": {
      "text/plain": [
       "0.6545725612890169"
      ]
     },
     "execution_count": 27,
     "metadata": {},
     "output_type": "execute_result"
    }
   ],
   "source": [
    "model.score(X_train, y_train)\n"
   ]
  },
  {
   "cell_type": "code",
   "execution_count": 28,
   "id": "66d2a5f2",
   "metadata": {},
   "outputs": [
    {
     "data": {
      "text/plain": [
       "0.629446435228515"
      ]
     },
     "execution_count": 28,
     "metadata": {},
     "output_type": "execute_result"
    }
   ],
   "source": [
    "model.score(X_test, y_test)"
   ]
  },
  {
   "cell_type": "markdown",
   "id": "7f4396f5",
   "metadata": {},
   "source": [
    "### Hyperparameter tuning"
   ]
  },
  {
   "cell_type": "code",
   "execution_count": 29,
   "id": "027ea51b",
   "metadata": {},
   "outputs": [
    {
     "name": "stdout",
     "output_type": "stream",
     "text": [
      "Best parameters: {'max_depth': 7, 'min_samples_leaf': 3, 'min_samples_split': 6, 'n_estimators': 200}\n",
      "Best score: 0.8392671140200132\n"
     ]
    }
   ],
   "source": [
    "from sklearn.model_selection import GridSearchCV\n",
    "\n",
    "# Define the parameter grid\n",
    "param_grid = {\n",
    "    'n_estimators': [100, 200, 300],\n",
    "    'max_depth': [3, 5, 7],\n",
    "    'min_samples_split': [2, 4, 6],\n",
    "    'min_samples_leaf': [1, 2, 3]\n",
    "}\n",
    "\n",
    "# Create the model\n",
    "rf = RandomForestRegressor()\n",
    "\n",
    "# Perform grid search\n",
    "grid_search = GridSearchCV(estimator=rf, param_grid=param_grid, cv=5)\n",
    "grid_search.fit(X_train, y_train)\n",
    "\n",
    "# Print the best parameters and score\n",
    "print(\"Best parameters:\", grid_search.best_params_)\n",
    "print(\"Best score:\", grid_search.best_score_)\n"
   ]
  },
  {
   "cell_type": "code",
   "execution_count": null,
   "id": "707369d5",
   "metadata": {},
   "outputs": [],
   "source": [
    "grid_search.score(X_train, y_train)"
   ]
  },
  {
   "cell_type": "code",
   "execution_count": null,
   "id": "aae1d2f2",
   "metadata": {},
   "outputs": [],
   "source": [
    "grid_search.score(X_test, y_test)"
   ]
  }
 ],
 "metadata": {
  "kernelspec": {
   "display_name": "Python 3 (ipykernel)",
   "language": "python",
   "name": "python3"
  },
  "language_info": {
   "codemirror_mode": {
    "name": "ipython",
    "version": 3
   },
   "file_extension": ".py",
   "mimetype": "text/x-python",
   "name": "python",
   "nbconvert_exporter": "python",
   "pygments_lexer": "ipython3",
   "version": "3.1.0"
  }
 },
 "nbformat": 4,
 "nbformat_minor": 5
}
